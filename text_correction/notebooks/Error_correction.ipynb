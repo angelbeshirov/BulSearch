{
  "nbformat": 4,
  "nbformat_minor": 0,
  "metadata": {
    "colab": {
      "name": "Error_correction.ipynb",
      "provenance": [],
      "collapsed_sections": []
    },
    "kernelspec": {
      "display_name": "Python 3",
      "language": "python",
      "name": "python3"
    },
    "language_info": {
      "codemirror_mode": {
        "name": "ipython",
        "version": 3
      },
      "file_extension": ".py",
      "mimetype": "text/x-python",
      "name": "python",
      "nbconvert_exporter": "python",
      "pygments_lexer": "ipython3",
      "version": "3.6.9"
    },
    "accelerator": "GPU"
  },
  "cells": [
    {
      "cell_type": "code",
      "metadata": {
        "cellView": "both",
        "id": "MvEblsgEXxrd",
        "colab": {
          "base_uri": "https://localhost:8080/"
        },
        "outputId": "36e57f1b-e301-4aae-ae16-f5fd55f7cd67"
      },
      "source": [
        "%tensorflow_version 1.x"
      ],
      "execution_count": 1,
      "outputs": [
        {
          "output_type": "stream",
          "name": "stdout",
          "text": [
            "TensorFlow 1.x selected.\n"
          ]
        }
      ]
    },
    {
      "cell_type": "code",
      "metadata": {
        "id": "9hih0Sx6_LZR"
      },
      "source": [
        "import os\n",
        "import numpy as np\n",
        "import random\n",
        "import re\n",
        "import string\n",
        "import tensorflow as tf\n",
        "import zipfile\n",
        "import pickle\n",
        "import matplotlib.pyplot as plt"
      ],
      "execution_count": 2,
      "outputs": []
    },
    {
      "cell_type": "code",
      "metadata": {
        "colab": {
          "base_uri": "https://localhost:8080/"
        },
        "id": "9K72xmdhE5X6",
        "outputId": "e950c155-aedb-4620-b5d7-41b3c8e09406"
      },
      "source": [
        "from google.colab import drive\n",
        "drive.mount('/content/gdrive')\n",
        "path_to_dataset = '/content/gdrive/My Drive/IR/icdar2019'"
      ],
      "execution_count": 3,
      "outputs": [
        {
          "output_type": "stream",
          "name": "stdout",
          "text": [
            "Mounted at /content/gdrive\n"
          ]
        }
      ]
    },
    {
      "cell_type": "code",
      "metadata": {
        "cellView": "both",
        "id": "Mvf09fjugFU_"
      },
      "source": [
        "def create_pairs(file, start=0):\n",
        "    \"\"\"\n",
        "    Create sentence pairs, where first sentence is the OCR-ed sentence and \n",
        "    2nd sentence is the GS sentence or the target one. This can be viewed as Machine Translation\n",
        "    task.\n",
        "    \"\"\"\n",
        "    print(\"Reading lines...\")\n",
        "\n",
        "    with open(file) as f:\n",
        "        data = f.readlines()\n",
        "\n",
        "    clean_sentences_ocr = []\n",
        "    clean_sentences_gs = []\n",
        "\n",
        "    for i in range(start, len(data), 2):\n",
        "      clean_sentences_ocr.append(clean_text(data[i]))\n",
        "      clean_sentences_gs.append(clean_text(data[i + 1]))\n",
        "\n",
        "    pairs = [[x, y] for x, y in zip(clean_sentences_ocr, clean_sentences_gs)]\n",
        "\n",
        "    return pairs"
      ],
      "execution_count": 4,
      "outputs": []
    },
    {
      "cell_type": "code",
      "metadata": {
        "id": "TWmo6RbgFl2b"
      },
      "source": [
        "def clean_text(text):\n",
        "    text = re.sub(r'\\n', '', text)\n",
        "\n",
        "    return text.lower()"
      ],
      "execution_count": 5,
      "outputs": []
    },
    {
      "cell_type": "code",
      "metadata": {
        "colab": {
          "base_uri": "https://localhost:8080/"
        },
        "id": "tcAlSAyoGI1A",
        "outputId": "542b6bee-9369-48ab-f135-721d588b222d"
      },
      "source": [
        "def prepare_data(file):\n",
        "    return create_pairs(file)\n",
        "\n",
        "input_file = path_to_dataset + '/correct_single.txt'\n",
        "pairs = prepare_data(input_file)"
      ],
      "execution_count": 6,
      "outputs": [
        {
          "output_type": "stream",
          "name": "stdout",
          "text": [
            "Reading lines...\n"
          ]
        }
      ]
    },
    {
      "cell_type": "code",
      "metadata": {
        "colab": {
          "base_uri": "https://localhost:8080/"
        },
        "id": "q3DuIZsKFR_T",
        "outputId": "12589136-017f-474c-8347-2317c5b93583"
      },
      "source": [
        "print(\"Read {} word pairs\".format(len(pairs) // 2))\n",
        "pair1 = random.choice(pairs)\n",
        "pair2 = random.choice(pairs)\n",
        "pair3 = random.choice(pairs)\n",
        "\n",
        "print(\"Pair 1: OCR: {}, GS: {}, len1: {} and len2: {}\".format(pair1[0], pair1[1], len(pair1[0]), len(pair1[1])))\n",
        "print(\"Pair 2: OCR: {}, GS: {}, len1: {} and len2: {}\".format(pair2[0], pair2[1], len(pair2[0]), len(pair2[1])))\n",
        "print(\"Pair 3: OCR: {}, GS: {}, len1: {} and len2: {}\".format(pair3[0], pair3[1], len(pair3[0]), len(pair3[1])))"
      ],
      "execution_count": 7,
      "outputs": [
        {
          "output_type": "stream",
          "name": "stdout",
          "text": [
            "Read 7122 word pairs\n",
            "Pair 1: OCR: някогашни, GS: нѣкогашпи, len1: 9 and len2: 9\n",
            "Pair 2: OCR: умътъ:, GS: умъ ъ:, len1: 6 and len2: 6\n",
            "Pair 3: OCR: нонравителп., GS: поправители., len1: 12 and len2: 12\n"
          ]
        }
      ]
    },
    {
      "cell_type": "markdown",
      "metadata": {
        "id": "ga2CYACE-ghb"
      },
      "source": [
        "Create a small validation set."
      ]
    },
    {
      "cell_type": "code",
      "metadata": {
        "cellView": "both",
        "colab": {
          "base_uri": "https://localhost:8080/"
        },
        "id": "w-oBpfFG-j43",
        "outputId": "7ed275bf-2ab0-4e1e-9c11-e272cf161058"
      },
      "source": [
        "valid_size = 1000\n",
        "valid_pairs = pairs[:valid_size]\n",
        "train_pairs = pairs[valid_size:]\n",
        "\n",
        "train_size = len(train_pairs)\n",
        "print(train_size, train_pairs[:5])\n",
        "print(valid_size, valid_pairs[:5])"
      ],
      "execution_count": 8,
      "outputs": [
        {
          "output_type": "stream",
          "name": "stdout",
          "text": [
            "13245 [['въренъ', 'вѣренъ'], ['бждн.', 'бѫди.'], ['унизи@', 'унизѝ'], ['с’', \"с'\"], ['измьна', 'измѣна']]\n",
            "1000 [['@@@350', '   350'], ['хриету', 'христу'], ['служители;', 'служитель;'], ['кръви', 'кръвь'], ['тьло', 'тѣло']]\n"
          ]
        }
      ]
    },
    {
      "cell_type": "code",
      "metadata": {
        "colab": {
          "base_uri": "https://localhost:8080/"
        },
        "id": "HGC6SIFKIpXH",
        "outputId": "8829e86f-e689-4626-8b2f-c3cf50c5aa12"
      },
      "source": [
        "content = ''.join([p[0] + p[1] for p in pairs])\n",
        "\n",
        "invalid_chars = set(['^', '■', '•', '~', '§', '°', '®', '&', ' ', '½', 'λ', '„', '«'])\n",
        "all_chars = set(content) - invalid_chars\n",
        "\n",
        "all_chars = list(all_chars)\n",
        "print(all_chars)\n",
        "print(\"All chars are: {}\".format(len(all_chars)))"
      ],
      "execution_count": 9,
      "outputs": [
        {
          "output_type": "stream",
          "name": "stdout",
          "text": [
            "[\"'\", '!', ']', '<', ',', '2', 'h', '.', 'л', 'р', '8', '|', '‐', '5', 'ѣ', 'м', 'у', '6', ')', 'l', '@', '‑', 'o', '0', '}', 'к', 'ц', 'm', 'ч', 'n', 'a', '[', '%', 'ῳ', '‘', '—', '’', 'б', '?', 'ю', 't', '3', 'в', 'и', 'ъ', 'я', 'г', 'п', 'γ', 'і', 'н', 'ῷ', 'z', 'j', '1', '―', 'b', 'ж', '̀', '“', ':', 'о', 'g', '\\\\', 'ӏ', '{', 'х', 'v', 'ӣ', '(', 'д', '\"', 'τ', 'f', 'd', 'й', '>', '9', 'u', '”', 'ό', 's', 'ѫ', 'p', ';', '*', '7', 'i', '/', '4', 'т', 'x', '́', 'щ', '-', 'а', 'ѭ', 'с', '#', 'e', 'k', 'ы', 'ь', 'ш', 'з', 'ф', '»', 'c', 'r', 'е']\n",
            "All chars are: 110\n"
          ]
        }
      ]
    },
    {
      "cell_type": "code",
      "metadata": {
        "cellView": "both",
        "id": "KyVd8FxT5QBc"
      },
      "source": [
        "def logprob(predictions, labels):\n",
        "    \"\"\"Log-probability of the true labels in a predicted batch.\"\"\"\n",
        "    predictions[predictions < 1e-10] = 1e-10\n",
        "    return np.sum(np.multiply(labels, -np.log(predictions))) / labels.shape[0]\n",
        "\n",
        "def sample_distribution(distribution):\n",
        "    \"\"\"Sample one element from a distribution assumed to be an array of normalized probabilities.\n",
        "    \"\"\"\n",
        "    r = random.uniform(0, 1)\n",
        "    s = 0\n",
        "    for i in range(len(distribution)):\n",
        "        s += distribution[i]\n",
        "        if s >= r:\n",
        "            return i\n",
        "    \n",
        "    return len(distribution) - 1\n",
        "\n",
        "def sample(prediction):\n",
        "    \"\"\"Turn a prediction into a 1-hot encoded vecotr.\"\"\"\n",
        "    p = np.zeros(shape=[1, vocabulary_size], dtype=np.float)\n",
        "    p[0, sample_distribution(prediction[0])] = 1.0\n",
        "\n",
        "    return p\n",
        "\n",
        "def random_distribution():\n",
        "    \"\"\"Generate a random column of probabilities.\"\"\"\n",
        "    b = np.random.uniform(0.0, 1.0, size=[1, vocabulary_size])\n",
        "    return b / np.sum(b, 1)[:, None]"
      ],
      "execution_count": 10,
      "outputs": []
    },
    {
      "cell_type": "code",
      "metadata": {
        "id": "s1ihlV2t-KBI"
      },
      "source": [
        "from tensorflow.python.layers.core import Dense\n",
        "\n",
        "batch_size = 128\n",
        "rnn_size = 64\n",
        "num_layers = 2\n",
        "embedding_size = 64\n",
        "learning_rate = 0.001\n",
        "sequence_length = 10"
      ],
      "execution_count": 11,
      "outputs": []
    },
    {
      "cell_type": "code",
      "metadata": {
        "id": "bcqZXTcf2JyJ",
        "colab": {
          "base_uri": "https://localhost:8080/"
        },
        "outputId": "b646ed78-b9c5-490d-ed62-e59ce3ef54a9"
      },
      "source": [
        "print(\"Training pairs {}\".format(len(train_pairs) // 2))\n",
        "print(\"Validation pairs {}\".format(len(valid_pairs) // 2))"
      ],
      "execution_count": 12,
      "outputs": [
        {
          "output_type": "stream",
          "name": "stdout",
          "text": [
            "Training pairs 6622\n",
            "Validation pairs 500\n"
          ]
        }
      ]
    },
    {
      "cell_type": "code",
      "metadata": {
        "colab": {
          "base_uri": "https://localhost:8080/"
        },
        "id": "E91WkI-K-KBI",
        "outputId": "81205678-9ce6-4503-e100-2223cd9a1486"
      },
      "source": [
        "def create_dictionaries():\n",
        "    special_words = ['<PAD>', '<UNK>', '<GO>',  '<END>']\n",
        "\n",
        "    words = all_chars + special_words\n",
        "    dictionary = {word: i for i, word in enumerate(words)}\n",
        "\n",
        "    return dictionary, dict(zip(dictionary.values(), dictionary.keys())) \n",
        "\n",
        "dictionary, reverse_dictionary = create_dictionaries()\n",
        "\n",
        "print(dictionary)\n",
        "print(reverse_dictionary)\n",
        "\n",
        "x_sentences = [pair[0] for pair in train_pairs]\n",
        "y_sentences = [pair[1] for pair in train_pairs]\n",
        "\n",
        "# Convert each word to dictionary representations\n",
        "x_ids = [[dictionary.get(letter, dictionary['<UNK>']) for letter in sentence] for sentence in x_sentences]\n",
        "y_ids = [[dictionary.get(letter, dictionary['<UNK>']) for letter in sentence] for sentence in y_sentences]\n",
        "\n",
        "print(\"Example raw data:\")\n",
        "print(train_pairs[:5])\n",
        "print(\"Example sequence\")\n",
        "print(x_ids[:5])\n",
        "print(\"\\n\")\n",
        "print(\"Example output\")\n",
        "print(y_ids[:5])"
      ],
      "execution_count": 13,
      "outputs": [
        {
          "output_type": "stream",
          "name": "stdout",
          "text": [
            "{\"'\": 0, '!': 1, ']': 2, '<': 3, ',': 4, '2': 5, 'h': 6, '.': 7, 'л': 8, 'р': 9, '8': 10, '|': 11, '‐': 12, '5': 13, 'ѣ': 14, 'м': 15, 'у': 16, '6': 17, ')': 18, 'l': 19, '@': 20, '‑': 21, 'o': 22, '0': 23, '}': 24, 'к': 25, 'ц': 26, 'm': 27, 'ч': 28, 'n': 29, 'a': 30, '[': 31, '%': 32, 'ῳ': 33, '‘': 34, '—': 35, '’': 36, 'б': 37, '?': 38, 'ю': 39, 't': 40, '3': 41, 'в': 42, 'и': 43, 'ъ': 44, 'я': 45, 'г': 46, 'п': 47, 'γ': 48, 'і': 49, 'н': 50, 'ῷ': 51, 'z': 52, 'j': 53, '1': 54, '―': 55, 'b': 56, 'ж': 57, '̀': 58, '“': 59, ':': 60, 'о': 61, 'g': 62, '\\\\': 63, 'ӏ': 64, '{': 65, 'х': 66, 'v': 67, 'ӣ': 68, '(': 69, 'д': 70, '\"': 71, 'τ': 72, 'f': 73, 'd': 74, 'й': 75, '>': 76, '9': 77, 'u': 78, '”': 79, 'ό': 80, 's': 81, 'ѫ': 82, 'p': 83, ';': 84, '*': 85, '7': 86, 'i': 87, '/': 88, '4': 89, 'т': 90, 'x': 91, '́': 92, 'щ': 93, '-': 94, 'а': 95, 'ѭ': 96, 'с': 97, '#': 98, 'e': 99, 'k': 100, 'ы': 101, 'ь': 102, 'ш': 103, 'з': 104, 'ф': 105, '»': 106, 'c': 107, 'r': 108, 'е': 109, '<PAD>': 110, '<UNK>': 111, '<GO>': 112, '<END>': 113}\n",
            "{0: \"'\", 1: '!', 2: ']', 3: '<', 4: ',', 5: '2', 6: 'h', 7: '.', 8: 'л', 9: 'р', 10: '8', 11: '|', 12: '‐', 13: '5', 14: 'ѣ', 15: 'м', 16: 'у', 17: '6', 18: ')', 19: 'l', 20: '@', 21: '‑', 22: 'o', 23: '0', 24: '}', 25: 'к', 26: 'ц', 27: 'm', 28: 'ч', 29: 'n', 30: 'a', 31: '[', 32: '%', 33: 'ῳ', 34: '‘', 35: '—', 36: '’', 37: 'б', 38: '?', 39: 'ю', 40: 't', 41: '3', 42: 'в', 43: 'и', 44: 'ъ', 45: 'я', 46: 'г', 47: 'п', 48: 'γ', 49: 'і', 50: 'н', 51: 'ῷ', 52: 'z', 53: 'j', 54: '1', 55: '―', 56: 'b', 57: 'ж', 58: '̀', 59: '“', 60: ':', 61: 'о', 62: 'g', 63: '\\\\', 64: 'ӏ', 65: '{', 66: 'х', 67: 'v', 68: 'ӣ', 69: '(', 70: 'д', 71: '\"', 72: 'τ', 73: 'f', 74: 'd', 75: 'й', 76: '>', 77: '9', 78: 'u', 79: '”', 80: 'ό', 81: 's', 82: 'ѫ', 83: 'p', 84: ';', 85: '*', 86: '7', 87: 'i', 88: '/', 89: '4', 90: 'т', 91: 'x', 92: '́', 93: 'щ', 94: '-', 95: 'а', 96: 'ѭ', 97: 'с', 98: '#', 99: 'e', 100: 'k', 101: 'ы', 102: 'ь', 103: 'ш', 104: 'з', 105: 'ф', 106: '»', 107: 'c', 108: 'r', 109: 'е', 110: '<PAD>', 111: '<UNK>', 112: '<GO>', 113: '<END>'}\n",
            "Example raw data:\n",
            "[['въренъ', 'вѣренъ'], ['бждн.', 'бѫди.'], ['унизи@', 'унизѝ'], ['с’', \"с'\"], ['измьна', 'измѣна']]\n",
            "Example sequence\n",
            "[[42, 44, 9, 109, 50, 44], [37, 57, 70, 50, 7], [16, 50, 43, 104, 43, 20], [97, 36], [43, 104, 15, 102, 50, 95]]\n",
            "\n",
            "\n",
            "Example output\n",
            "[[42, 14, 9, 109, 50, 44], [37, 82, 70, 43, 7], [16, 50, 43, 104, 43, 58], [97, 0], [43, 104, 15, 14, 50, 95]]\n"
          ]
        }
      ]
    },
    {
      "cell_type": "code",
      "metadata": {
        "id": "nIO2ibct-KBI"
      },
      "source": [
        "def create_cell(rnn_size):\n",
        "    cell = tf.contrib.rnn.LSTMCell(rnn_size,initializer=tf.random_uniform_initializer(-0.1, 0.1, seed=2))\n",
        "    \n",
        "    return cell"
      ],
      "execution_count": 14,
      "outputs": []
    },
    {
      "cell_type": "code",
      "metadata": {
        "id": "7hx4w-tU-KBI"
      },
      "source": [
        "def get_model_inputs():\n",
        "    inputs = tf.placeholder(tf.int32, [batch_size, None], name = 'inputs')\n",
        "    labels = tf.placeholder(tf.int32, [batch_size, None])\n",
        "    lr = tf.placeholder(tf.float32)\n",
        "\n",
        "    input_sequence_length = tf.placeholder(tf.int32, (batch_size,), name = 'input_sequence_length')\n",
        "    label_sequence_length = tf.placeholder(tf.int32, (batch_size,), name = 'label_sequence_length')\n",
        "    \n",
        "    max_label_sequence_length = tf.reduce_max(label_sequence_length)\n",
        "    \n",
        "    return inputs, labels, lr, input_sequence_length, label_sequence_length, max_label_sequence_length"
      ],
      "execution_count": 15,
      "outputs": []
    },
    {
      "cell_type": "code",
      "metadata": {
        "id": "3SnYtrJ1-KBI"
      },
      "source": [
        "def encoding_layer(inputs, rnn_size, num_layers, input_sequence_length, vocab_size, embedding_size):\n",
        "\n",
        "    embedded_input = tf.contrib.layers.embed_sequence(inputs, vocab_size, embedding_size)\n",
        "    encoder_cell = tf.contrib.rnn.MultiRNNCell([create_cell(rnn_size) for _ in range(num_layers)])\n",
        "    encoder_output, encoder_state = tf.nn.dynamic_rnn(encoder_cell, embedded_input, sequence_length=input_sequence_length, dtype=tf.float32)\n",
        "    \n",
        "    return encoder_output, encoder_state"
      ],
      "execution_count": 16,
      "outputs": []
    },
    {
      "cell_type": "code",
      "metadata": {
        "id": "fSCshWvK-KBI"
      },
      "source": [
        "# Some basic preprocessing to remove the last char and add the GO symbol for the decoder\n",
        "def process_decoder_input(labels, dictionary, batch_size):\n",
        "    ending = tf.strided_slice(labels, [0, 0], [batch_size, -1], [1, 1])\n",
        "    decoder_input = tf.concat([tf.fill([batch_size, 1], dictionary['<GO>']), ending], 1)\n",
        "\n",
        "    return decoder_input"
      ],
      "execution_count": 17,
      "outputs": []
    },
    {
      "cell_type": "code",
      "metadata": {
        "id": "SSHtZ0bK-KBI"
      },
      "source": [
        "def decoding_layer(dictionary, embedding_size, num_layers, rnn_size, labels_sequence_length, max_label_sequence_length, encoder_state, decoder_input):\n",
        "\n",
        "    vocab_size = len(dictionary)\n",
        "    decoder_embeddings = tf.Variable(tf.random_uniform([vocab_size, embedding_size]))\n",
        "    decoder_embed_input = tf.nn.embedding_lookup(decoder_embeddings, decoder_input)\n",
        "\n",
        "    decoder_cell = tf.contrib.rnn.MultiRNNCell([create_cell(rnn_size) for _ in range(num_layers)])\n",
        "     \n",
        "    output_layer = Dense(vocab_size, kernel_initializer=tf.truncated_normal_initializer(mean = 0.0, stddev=0.1))\n",
        "\n",
        "    with tf.variable_scope(\"decode\"):\n",
        "        training_helper = tf.contrib.seq2seq.TrainingHelper(inputs=decoder_embed_input, sequence_length=labels_sequence_length, time_major=False)\n",
        "        training_decoder = tf.contrib.seq2seq.BasicDecoder(decoder_cell, training_helper, encoder_state, output_layer) \n",
        "        training_decoder_output = tf.contrib.seq2seq.dynamic_decode(training_decoder,impute_finished=True, maximum_iterations=max_label_sequence_length)[0]\n",
        "\n",
        "    with tf.variable_scope(\"decode\", reuse=True):\n",
        "        start_tokens = tf.tile(tf.constant([dictionary['<GO>']], dtype=tf.int32), [batch_size], name='start_tokens')\n",
        "\n",
        "        inference_helper = tf.contrib.seq2seq.GreedyEmbeddingHelper(decoder_embeddings, start_tokens, dictionary['<END>'])\n",
        "        inference_decoder = tf.contrib.seq2seq.BasicDecoder(decoder_cell,inference_helper,encoder_state,output_layer)\n",
        "        inference_decoder_output = tf.contrib.seq2seq.dynamic_decode(inference_decoder, impute_finished=True, maximum_iterations=max_label_sequence_length)[0]\n",
        "    \n",
        "    return training_decoder_output, inference_decoder_output"
      ],
      "execution_count": 18,
      "outputs": []
    },
    {
      "cell_type": "code",
      "metadata": {
        "id": "qoqx-OjN-KBI"
      },
      "source": [
        "def seq2seq_model(input_data, labels, lr, inputs_sequence_length, labels_sequence_length, max_label_sequence_length, vocab_size, embedding_size, rnn_size, num_layers):\n",
        "    \n",
        "    _, encoder_state = encoding_layer(input_data, rnn_size, num_layers, inputs_sequence_length, vocab_size, embedding_size)\n",
        "    \n",
        "    decoder_input = process_decoder_input(labels, dictionary, batch_size)\n",
        "    \n",
        "    training_decoder_output, inference_decoder_output = decoding_layer(dictionary, embedding_size, num_layers, rnn_size, labels_sequence_length,\\\n",
        "                                                                       max_label_sequence_length, encoder_state, decoder_input) \n",
        "    \n",
        "    return training_decoder_output, inference_decoder_output"
      ],
      "execution_count": 19,
      "outputs": []
    },
    {
      "cell_type": "code",
      "metadata": {
        "id": "RnlkqYjv-KBJ",
        "colab": {
          "base_uri": "https://localhost:8080/"
        },
        "outputId": "5d26e51a-a64c-4c96-ff6c-2ba09f1bd01c"
      },
      "source": [
        "train_graph = tf.Graph()\n",
        "\n",
        "with train_graph.as_default():\n",
        "    \n",
        "    input_data, labels, lr, input_sequence_length, label_sequence_length, max_label_sequence_length = get_model_inputs()\n",
        "    \n",
        "    training_decoder_output, inference_decoder_output = seq2seq_model(input_data, labels, lr, input_sequence_length,label_sequence_length, max_label_sequence_length,\\\n",
        "                                                                      len(dictionary),embedding_size, rnn_size, num_layers)    \n",
        "\n",
        "    training_logits = tf.identity(training_decoder_output.rnn_output, 'logits')\n",
        "    inference_logits = tf.identity(inference_decoder_output.sample_id, name='predictions')\n",
        "    \n",
        "    masks = tf.sequence_mask(label_sequence_length, max_label_sequence_length, dtype=tf.float32, name='masks')\n",
        "\n",
        "    with tf.name_scope(\"optimization\"):\n",
        "\n",
        "        cost = tf.contrib.seq2seq.sequence_loss(training_logits, labels, masks)\n",
        "\n",
        "        optimizer = tf.train.AdamOptimizer(lr)\n",
        "\n",
        "        gradients = optimizer.compute_gradients(cost)\n",
        "        capped_gradients = [(tf.clip_by_value(grad, -5., 5.), var) for grad, var in gradients if grad is not None]\n",
        "        train_op = optimizer.apply_gradients(capped_gradients)"
      ],
      "execution_count": 20,
      "outputs": [
        {
          "output_type": "stream",
          "name": "stdout",
          "text": [
            "WARNING:tensorflow:\n",
            "The TensorFlow contrib module will not be included in TensorFlow 2.0.\n",
            "For more information, please see:\n",
            "  * https://github.com/tensorflow/community/blob/master/rfcs/20180907-contrib-sunset.md\n",
            "  * https://github.com/tensorflow/addons\n",
            "  * https://github.com/tensorflow/io (for I/O related ops)\n",
            "If you depend on functionality not listed there, please file an issue.\n",
            "\n",
            "WARNING:tensorflow:From <ipython-input-14-ab690fd1a1d1>:2: LSTMCell.__init__ (from tensorflow.python.ops.rnn_cell_impl) is deprecated and will be removed in a future version.\n",
            "Instructions for updating:\n",
            "This class is equivalent as tf.keras.layers.LSTMCell, and will be replaced by that in Tensorflow 2.0.\n",
            "WARNING:tensorflow:From <ipython-input-16-ef63aeabc3ea>:4: MultiRNNCell.__init__ (from tensorflow.python.ops.rnn_cell_impl) is deprecated and will be removed in a future version.\n",
            "Instructions for updating:\n",
            "This class is equivalent as tf.keras.layers.StackedRNNCells, and will be replaced by that in Tensorflow 2.0.\n",
            "WARNING:tensorflow:From <ipython-input-16-ef63aeabc3ea>:5: dynamic_rnn (from tensorflow.python.ops.rnn) is deprecated and will be removed in a future version.\n",
            "Instructions for updating:\n",
            "Please use `keras.layers.RNN(cell)`, which is equivalent to this API\n",
            "WARNING:tensorflow:From /tensorflow-1.15.2/python3.7/tensorflow_core/python/ops/rnn_cell_impl.py:958: Layer.add_variable (from tensorflow.python.keras.engine.base_layer) is deprecated and will be removed in a future version.\n",
            "Instructions for updating:\n",
            "Please use `layer.add_weight` method instead.\n",
            "WARNING:tensorflow:From /tensorflow-1.15.2/python3.7/tensorflow_core/python/ops/rnn_cell_impl.py:962: calling Zeros.__init__ (from tensorflow.python.ops.init_ops) with dtype is deprecated and will be removed in a future version.\n",
            "Instructions for updating:\n",
            "Call initializer instance with the dtype argument instead of passing it to the constructor\n",
            "WARNING:tensorflow:From /tensorflow-1.15.2/python3.7/tensorflow_core/python/ops/rnn.py:244: where (from tensorflow.python.ops.array_ops) is deprecated and will be removed in a future version.\n",
            "Instructions for updating:\n",
            "Use tf.where in 2.0, which has the same broadcast rule as np.where\n"
          ]
        }
      ]
    },
    {
      "cell_type": "code",
      "metadata": {
        "id": "UhbYaaAi-KBJ"
      },
      "source": [
        "def pad_batch(batch, pad_int):\n",
        "    # make sure each word has the same length\n",
        "    max_length = max([len(word) for word in batch])\n",
        "    return [word + [pad_int] * (max_length - len(word)) for word in batch]"
      ],
      "execution_count": 21,
      "outputs": []
    },
    {
      "cell_type": "code",
      "metadata": {
        "id": "FH1QCFtu-KBJ"
      },
      "source": [
        "class BatchGenerator(object):\n",
        "    def __init__(self, labels, inputs, batch_size, input_pad_int, label_pad_int):\n",
        "        self._labels = labels\n",
        "        self._inputs = inputs\n",
        "        self._batch_size = batch_size\n",
        "        self._input_pad_int = input_pad_int\n",
        "        self._label_pad_int = label_pad_int\n",
        "        self._cursor = 0\n",
        "  \n",
        "    def next(self):\n",
        "        # Generates a single batch\n",
        "        start_i = self._cursor * self._batch_size\n",
        "        input_batch = self._inputs[start_i:start_i + self._batch_size]\n",
        "        label_batch = self._labels[start_i:start_i + self._batch_size]\n",
        "        pad_input_batch = np.array(pad_batch(input_batch, self._input_pad_int))\n",
        "        pad_label_batch = np.array(pad_batch(label_batch, self._label_pad_int))\n",
        "        \n",
        "        pad_label_lengths = []\n",
        "        for i in pad_label_batch:\n",
        "            pad_label_lengths.append(len(i))\n",
        "\n",
        "        pad_input_lengths = []\n",
        "        for i in pad_input_batch:\n",
        "            pad_input_lengths.append(len(i))\n",
        "            \n",
        "        self._cursor = self._cursor + 1\n",
        "        \n",
        "        return pad_label_batch, pad_input_batch, pad_label_lengths, pad_input_lengths"
      ],
      "execution_count": 22,
      "outputs": []
    },
    {
      "cell_type": "code",
      "metadata": {
        "colab": {
          "base_uri": "https://localhost:8080/"
        },
        "id": "Vn60g7lL-KBJ",
        "outputId": "d6c0d293-f76f-40f5-d113-6802e0a7f7ff"
      },
      "source": [
        "train_input = x_ids[batch_size:]\n",
        "train_labels = y_ids[batch_size:]\n",
        "\n",
        "valid_input = x_ids[:batch_size]\n",
        "valid_labels = y_ids[:batch_size]\n",
        "\n",
        "batch_generator_valid = BatchGenerator(valid_labels, valid_input, batch_size, dictionary['<PAD>'], dictionary['<PAD>'])\n",
        "batch_generator_train = BatchGenerator(train_labels, train_input, batch_size, dictionary['<PAD>'], dictionary['<PAD>'])\n",
        "\n",
        "\n",
        "(valid_labels_batch, valid_input_batch, valid_labels_lengths, valid_input_lengths) = batch_generator_valid.next()\n",
        "\n",
        "checkpoint = \"seq2seq.ckpt\"\n",
        "training_epochs = 100\n",
        "\n",
        "loss_train = []\n",
        "loss_valid = []\n",
        "\n",
        "data = []\n",
        "for batch_i in range(0, len(train_input) // batch_size):\n",
        "    data.append(batch_generator_train.next())\n",
        "\n",
        "\n",
        "with tf.Session(graph=train_graph) as sess:\n",
        "    sess.run(tf.global_variables_initializer())\n",
        "\n",
        "    for epoch in range(training_epochs):\n",
        "\n",
        "      for labels_batch, input_batch, labels_lengths, input_lengths in data:\n",
        "        _, loss = sess.run([train_op, cost],\n",
        "        {\n",
        "            input_data: input_batch,\n",
        "            labels: labels_batch,\n",
        "            lr: learning_rate,\n",
        "            label_sequence_length: labels_lengths,\n",
        "            input_sequence_length: input_lengths\n",
        "          })\n",
        "        \n",
        "      validation_loss = sess.run(\n",
        "      [cost],\n",
        "      {\n",
        "          input_data: valid_input_batch,\n",
        "          labels: valid_labels_batch,\n",
        "          lr: learning_rate,\n",
        "          label_sequence_length: valid_labels_lengths,\n",
        "          input_sequence_length: valid_input_lengths\n",
        "       })\n",
        "      \n",
        "      print('Epoch %d/%d - Loss: %.3f  - Validation loss: %.3f' % (epoch, training_epochs, loss, validation_loss[0]))\n",
        "      loss_train.append(loss)\n",
        "      loss_valid.append(validation_loss[0])\n",
        "\n",
        "    # save the model state\n",
        "    saver = tf.train.Saver()\n",
        "    saver.save(sess, checkpoint)\n",
        "    print('Model Trained and Saved')"
      ],
      "execution_count": 23,
      "outputs": [
        {
          "output_type": "stream",
          "name": "stdout",
          "text": [
            "Epoch 0/100 - Loss: 1.621  - Validation loss: 1.398\n",
            "Epoch 1/100 - Loss: 1.378  - Validation loss: 1.200\n",
            "Epoch 2/100 - Loss: 1.308  - Validation loss: 1.149\n",
            "Epoch 3/100 - Loss: 1.279  - Validation loss: 1.139\n",
            "Epoch 4/100 - Loss: 1.259  - Validation loss: 1.111\n",
            "Epoch 5/100 - Loss: 1.254  - Validation loss: 1.101\n",
            "Epoch 6/100 - Loss: 1.229  - Validation loss: 1.093\n",
            "Epoch 7/100 - Loss: 1.220  - Validation loss: 1.083\n",
            "Epoch 8/100 - Loss: 1.198  - Validation loss: 1.074\n",
            "Epoch 9/100 - Loss: 1.153  - Validation loss: 1.043\n",
            "Epoch 10/100 - Loss: 1.074  - Validation loss: 1.002\n",
            "Epoch 11/100 - Loss: 1.028  - Validation loss: 0.972\n",
            "Epoch 12/100 - Loss: 0.998  - Validation loss: 0.957\n",
            "Epoch 13/100 - Loss: 0.971  - Validation loss: 0.945\n",
            "Epoch 14/100 - Loss: 0.941  - Validation loss: 0.918\n",
            "Epoch 15/100 - Loss: 0.912  - Validation loss: 0.896\n",
            "Epoch 16/100 - Loss: 0.891  - Validation loss: 0.882\n",
            "Epoch 17/100 - Loss: 0.856  - Validation loss: 0.852\n",
            "Epoch 18/100 - Loss: 0.831  - Validation loss: 0.831\n",
            "Epoch 19/100 - Loss: 0.807  - Validation loss: 0.812\n",
            "Epoch 20/100 - Loss: 0.773  - Validation loss: 0.792\n",
            "Epoch 21/100 - Loss: 0.741  - Validation loss: 0.770\n",
            "Epoch 22/100 - Loss: 0.721  - Validation loss: 0.750\n",
            "Epoch 23/100 - Loss: 0.689  - Validation loss: 0.732\n",
            "Epoch 24/100 - Loss: 0.664  - Validation loss: 0.713\n",
            "Epoch 25/100 - Loss: 0.632  - Validation loss: 0.686\n",
            "Epoch 26/100 - Loss: 0.610  - Validation loss: 0.672\n",
            "Epoch 27/100 - Loss: 0.597  - Validation loss: 0.649\n",
            "Epoch 28/100 - Loss: 0.559  - Validation loss: 0.636\n",
            "Epoch 29/100 - Loss: 0.533  - Validation loss: 0.615\n",
            "Epoch 30/100 - Loss: 0.518  - Validation loss: 0.605\n",
            "Epoch 31/100 - Loss: 0.490  - Validation loss: 0.578\n",
            "Epoch 32/100 - Loss: 0.474  - Validation loss: 0.559\n",
            "Epoch 33/100 - Loss: 0.464  - Validation loss: 0.546\n",
            "Epoch 34/100 - Loss: 0.466  - Validation loss: 0.535\n",
            "Epoch 35/100 - Loss: 0.438  - Validation loss: 0.517\n",
            "Epoch 36/100 - Loss: 0.422  - Validation loss: 0.506\n",
            "Epoch 37/100 - Loss: 0.416  - Validation loss: 0.497\n",
            "Epoch 38/100 - Loss: 0.398  - Validation loss: 0.491\n",
            "Epoch 39/100 - Loss: 0.380  - Validation loss: 0.478\n",
            "Epoch 40/100 - Loss: 0.366  - Validation loss: 0.467\n",
            "Epoch 41/100 - Loss: 0.356  - Validation loss: 0.461\n",
            "Epoch 42/100 - Loss: 0.344  - Validation loss: 0.454\n",
            "Epoch 43/100 - Loss: 0.330  - Validation loss: 0.448\n",
            "Epoch 44/100 - Loss: 0.317  - Validation loss: 0.437\n",
            "Epoch 45/100 - Loss: 0.305  - Validation loss: 0.429\n",
            "Epoch 46/100 - Loss: 0.294  - Validation loss: 0.422\n",
            "Epoch 47/100 - Loss: 0.286  - Validation loss: 0.418\n",
            "Epoch 48/100 - Loss: 0.277  - Validation loss: 0.409\n",
            "Epoch 49/100 - Loss: 0.267  - Validation loss: 0.401\n",
            "Epoch 50/100 - Loss: 0.259  - Validation loss: 0.397\n",
            "Epoch 51/100 - Loss: 0.249  - Validation loss: 0.390\n",
            "Epoch 52/100 - Loss: 0.243  - Validation loss: 0.384\n",
            "Epoch 53/100 - Loss: 0.236  - Validation loss: 0.381\n",
            "Epoch 54/100 - Loss: 0.228  - Validation loss: 0.373\n",
            "Epoch 55/100 - Loss: 0.221  - Validation loss: 0.367\n",
            "Epoch 56/100 - Loss: 0.217  - Validation loss: 0.362\n",
            "Epoch 57/100 - Loss: 0.210  - Validation loss: 0.358\n",
            "Epoch 58/100 - Loss: 0.206  - Validation loss: 0.354\n",
            "Epoch 59/100 - Loss: 0.205  - Validation loss: 0.351\n",
            "Epoch 60/100 - Loss: 0.200  - Validation loss: 0.349\n",
            "Epoch 61/100 - Loss: 0.197  - Validation loss: 0.346\n",
            "Epoch 62/100 - Loss: 0.198  - Validation loss: 0.342\n",
            "Epoch 63/100 - Loss: 0.195  - Validation loss: 0.344\n",
            "Epoch 64/100 - Loss: 0.192  - Validation loss: 0.339\n",
            "Epoch 65/100 - Loss: 0.194  - Validation loss: 0.334\n",
            "Epoch 66/100 - Loss: 0.183  - Validation loss: 0.332\n",
            "Epoch 67/100 - Loss: 0.178  - Validation loss: 0.324\n",
            "Epoch 68/100 - Loss: 0.177  - Validation loss: 0.320\n",
            "Epoch 69/100 - Loss: 0.175  - Validation loss: 0.317\n",
            "Epoch 70/100 - Loss: 0.178  - Validation loss: 0.318\n",
            "Epoch 71/100 - Loss: 0.167  - Validation loss: 0.317\n",
            "Epoch 72/100 - Loss: 0.161  - Validation loss: 0.312\n",
            "Epoch 73/100 - Loss: 0.160  - Validation loss: 0.310\n",
            "Epoch 74/100 - Loss: 0.157  - Validation loss: 0.308\n",
            "Epoch 75/100 - Loss: 0.154  - Validation loss: 0.309\n",
            "Epoch 76/100 - Loss: 0.151  - Validation loss: 0.308\n",
            "Epoch 77/100 - Loss: 0.147  - Validation loss: 0.306\n",
            "Epoch 78/100 - Loss: 0.143  - Validation loss: 0.308\n",
            "Epoch 79/100 - Loss: 0.139  - Validation loss: 0.307\n",
            "Epoch 80/100 - Loss: 0.137  - Validation loss: 0.309\n",
            "Epoch 81/100 - Loss: 0.136  - Validation loss: 0.310\n",
            "Epoch 82/100 - Loss: 0.131  - Validation loss: 0.309\n",
            "Epoch 83/100 - Loss: 0.128  - Validation loss: 0.315\n",
            "Epoch 84/100 - Loss: 0.126  - Validation loss: 0.317\n",
            "Epoch 85/100 - Loss: 0.124  - Validation loss: 0.317\n",
            "Epoch 86/100 - Loss: 0.125  - Validation loss: 0.316\n",
            "Epoch 87/100 - Loss: 0.131  - Validation loss: 0.315\n",
            "Epoch 88/100 - Loss: 0.133  - Validation loss: 0.312\n",
            "Epoch 89/100 - Loss: 0.134  - Validation loss: 0.314\n",
            "Epoch 90/100 - Loss: 0.136  - Validation loss: 0.321\n",
            "Epoch 91/100 - Loss: 0.136  - Validation loss: 0.322\n",
            "Epoch 92/100 - Loss: 0.134  - Validation loss: 0.325\n",
            "Epoch 93/100 - Loss: 0.130  - Validation loss: 0.325\n",
            "Epoch 94/100 - Loss: 0.126  - Validation loss: 0.322\n",
            "Epoch 95/100 - Loss: 0.122  - Validation loss: 0.318\n",
            "Epoch 96/100 - Loss: 0.120  - Validation loss: 0.319\n",
            "Epoch 97/100 - Loss: 0.119  - Validation loss: 0.317\n",
            "Epoch 98/100 - Loss: 0.120  - Validation loss: 0.317\n",
            "Epoch 99/100 - Loss: 0.123  - Validation loss: 0.313\n",
            "Model Trained and Saved\n"
          ]
        }
      ]
    },
    {
      "cell_type": "code",
      "metadata": {
        "id": "zoSEasTUcvWt"
      },
      "source": [
        "saved_model_path = path_to_dataset + '/seq2seq/'"
      ],
      "execution_count": 24,
      "outputs": []
    },
    {
      "cell_type": "code",
      "metadata": {
        "colab": {
          "base_uri": "https://localhost:8080/",
          "height": 296
        },
        "id": "ysbpdwiPoDZ9",
        "outputId": "d8eab320-f836-41b5-a372-71a463a43d63"
      },
      "source": [
        "plt.plot(loss_train, label='training loss')\n",
        "plt.plot(loss_valid, label='validation loss')\n",
        "plt.xlabel(\"Epoch\")\n",
        "plt.ylabel(\"Loss\")\n",
        "plt.legend()"
      ],
      "execution_count": 25,
      "outputs": [
        {
          "output_type": "execute_result",
          "data": {
            "text/plain": [
              "<matplotlib.legend.Legend at 0x7fcb00416b10>"
            ]
          },
          "metadata": {},
          "execution_count": 25
        },
        {
          "output_type": "display_data",
          "data": {
            "image/png": "[encoded data removed]",
            "text/plain": [
              "<Figure size 432x288 with 1 Axes>"
            ]
          },
          "metadata": {
            "needs_background": "light"
          }
        }
      ]
    },
    {
      "cell_type": "code",
      "metadata": {
        "id": "YY7FWYq0dnDS"
      },
      "source": [
        "# with open('dictionary.pickle', 'wb') as handle:\n",
        "#     pickle.dump(dictionary, handle, protocol=pickle.HIGHEST_PROTOCOL)\n",
        "\n",
        "# with open('reverse_dictionary.pickle', 'wb') as handle:\n",
        "#     pickle.dump(reverse_dictionary, handle, protocol=pickle.HIGHEST_PROTOCOL)"
      ],
      "execution_count": 26,
      "outputs": []
    },
    {
      "cell_type": "code",
      "metadata": {
        "id": "6Bz93atBdgpM"
      },
      "source": [
        "with open(saved_model_path + 'dictionary.pickle', 'rb') as handle:\n",
        "    dictionary = pickle.load(handle)\n",
        "\n",
        "with open(saved_model_path + 'reverse_dictionary.pickle', 'rb') as handle:\n",
        "    reverse_dictionary = pickle.load(handle)"
      ],
      "execution_count": 27,
      "outputs": []
    },
    {
      "cell_type": "code",
      "metadata": {
        "colab": {
          "base_uri": "https://localhost:8080/"
        },
        "id": "Kd4xzYhId1_L",
        "outputId": "47360726-ad4b-4014-c232-b0a047261676"
      },
      "source": [
        "print(dictionary)"
      ],
      "execution_count": 28,
      "outputs": [
        {
          "output_type": "stream",
          "name": "stdout",
          "text": [
            "{'[': 0, '“': 1, 'f': 2, '*': 3, '#': 4, 'ц': 5, '?': 6, '”': 7, \"'\": 8, ',': 9, '»': 10, '\"': 11, '9': 12, '‑': 13, '@': 14, '<': 15, 'с': 16, 'c': 17, 'о': 18, 'л': 19, 'п': 20, 'б': 21, 'e': 22, 'ш': 23, 'і': 24, '—': 25, 'ж': 26, ';': 27, 'е': 28, '|': 29, '̀': 30, 'r': 31, 'h': 32, 'o': 33, '1': 34, '5': 35, '3': 36, 's': 37, 'у': 38, '’': 39, 'g': 40, '―': 41, 'τ': 42, '!': 43, '>': 44, '{': 45, 'j': 46, 'ъ': 47, 'х': 48, '6': 49, 'ѭ': 50, 'ῳ': 51, 'a': 52, 'г': 53, 'к': 54, 'x': 55, ':': 56, 'ы': 57, 't': 58, 'н': 59, '́': 60, '4': 61, 'м': 62, 'з': 63, 'ь': 64, 'l': 65, 'k': 66, ']': 67, 'z': 68, 'в': 69, '\\\\': 70, 'ῷ': 71, 'и': 72, 'ό': 73, 'ӏ': 74, '‐': 75, '(': 76, 'щ': 77, 'i': 78, '‘': 79, 'p': 80, 'т': 81, 'а': 82, 'ф': 83, 'd': 84, '.': 85, 'n': 86, '2': 87, '/': 88, 'm': 89, 'ӣ': 90, '8': 91, 'ю': 92, 'ѫ': 93, 'р': 94, '-': 95, '0': 96, '7': 97, 'я': 98, '}': 99, ')': 100, 'γ': 101, 'й': 102, 'ѣ': 103, 'v': 104, '%': 105, 'b': 106, 'ч': 107, 'u': 108, 'д': 109, '<PAD>': 110, '<UNK>': 111, '<GO>': 112, '<END>': 113}\n"
          ]
        }
      ]
    },
    {
      "cell_type": "code",
      "metadata": {
        "id": "-F9lXSIp-KBJ"
      },
      "source": [
        "def to_seq(text):\n",
        "    # preprocess text for the model\n",
        "    return [dictionary.get(word, dictionary['<UNK>']) for word in text] + [dictionary['<PAD>']]*(sequence_length-len(text))"
      ],
      "execution_count": 29,
      "outputs": []
    },
    {
      "cell_type": "code",
      "metadata": {
        "colab": {
          "base_uri": "https://localhost:8080/"
        },
        "id": "HWZlV_qw-KBJ",
        "outputId": "6918c16b-415f-4576-f845-055229eeb797"
      },
      "source": [
        "pad = dictionary[\"<PAD>\"] \n",
        "\n",
        "checkpoint = path_to_dataset + '/seq2seq/seq2seq.ckpt'\n",
        "\n",
        "loaded_graph = tf.Graph()\n",
        "with tf.Session(graph=loaded_graph) as sess:\n",
        "    \n",
        "    # load the model\n",
        "    loader = tf.train.import_meta_graph(checkpoint + '.meta')\n",
        "    loader.restore(sess, checkpoint)\n",
        "\n",
        "    input_data = loaded_graph.get_tensor_by_name('inputs:0')\n",
        "    logits = loaded_graph.get_tensor_by_name('predictions:0')\n",
        "    input_sequence_length = loaded_graph.get_tensor_by_name('input_sequence_length:0')\n",
        "    label_sequence_length = loaded_graph.get_tensor_by_name('label_sequence_length:0')\n",
        "   \n",
        "    # words = ['когаго']\n",
        "    # words = ['когато']\n",
        "    # words = ['нещо']\n",
        "    # words = ['срЪдъ']\n",
        "    # words = ['погрешка']\n",
        "    # words = ['турилъ']\n",
        "    words = ['грешка']\n",
        "    # words = ['твърде']\n",
        "\n",
        "    input_sentence = ' '.join(words)\n",
        "    \n",
        "    print()\n",
        "    print('Original Text: %s' % input_sentence)\n",
        "    print('Word Ids: %s' % ([[letter for letter in to_seq(word.lower())] for word in words]))\n",
        "    inputWords = [\" \".join([reverse_dictionary[i] for i in to_seq(word)]) for word in words]\n",
        "    print('Input words: %s' % inputWords)\n",
        "    \n",
        "    print()\n",
        "    print(\"Output:\")\n",
        "    outputs = list()\n",
        "    for word in input_sentence.split(' '):\n",
        "        word_seq = to_seq(word.lower())\n",
        "        answer_logits = sess.run(logits, {input_data: [word_seq] * batch_size, label_sequence_length: [len(word_seq)] * batch_size, input_sequence_length: [len(word_seq)]*batch_size})[0]\n",
        "\n",
        "        \n",
        "        output_word = ''.join([reverse_dictionary[i] for i in answer_logits if i != pad])\n",
        "\n",
        "        print('Word Ids: %s' % ([i for i in answer_logits if i != pad]))\n",
        "        print('Response Word: %s' % (output_word))\n",
        "        outputs.append(output_word)\n",
        "    \n",
        "    print()\n",
        "    print(\"Sentence output: %s\" % (' '.join(outputs)))"
      ],
      "execution_count": 30,
      "outputs": [
        {
          "output_type": "stream",
          "name": "stdout",
          "text": [
            "INFO:tensorflow:Restoring parameters from /content/gdrive/My Drive/IR/icdar2019/seq2seq/seq2seq.ckpt\n",
            "\n",
            "Original Text: грешка\n",
            "Word Ids: [[53, 94, 28, 23, 54, 82, 110, 110, 110, 110]]\n",
            "Input words: ['г р е ш к а <PAD> <PAD> <PAD> <PAD>']\n",
            "\n",
            "Output:\n",
            "Word Ids: [53, 94, 103, 23, 54, 82]\n",
            "Response Word: грѣшка\n",
            "\n",
            "Sentence output: грѣшка\n"
          ]
        }
      ]
    },
    {
      "cell_type": "code",
      "metadata": {
        "id": "oS17oQ_f-KBJ",
        "colab": {
          "base_uri": "https://localhost:8080/"
        },
        "outputId": "4f79737d-f6fb-4389-c836-8e48ff3cc874"
      },
      "source": [
        "!zip -r model.zip ./saved"
      ],
      "execution_count": 31,
      "outputs": [
        {
          "output_type": "stream",
          "name": "stdout",
          "text": [
            "\tzip warning: name not matched: ./saved\n",
            "\n",
            "zip error: Nothing to do! (try: zip -r model.zip . -i ./saved)\n"
          ]
        }
      ]
    },
    {
      "cell_type": "code",
      "metadata": {
        "colab": {
          "base_uri": "https://localhost:8080/"
        },
        "id": "J1wQOW1NKOhn",
        "outputId": "04420d27-8fa4-434e-b565-de883ec8c98c"
      },
      "source": [
        "test_dataset = path_to_dataset + '/correct_sentence.txt'\n",
        "test_dataset_words = path_to_dataset + '/correct_test_single.txt'\n",
        "test_pairs_sentences = create_pairs(test_dataset,start=1)\n",
        "test_pairs_single = create_pairs(test_dataset_words)"
      ],
      "execution_count": 32,
      "outputs": [
        {
          "output_type": "stream",
          "name": "stdout",
          "text": [
            "Reading lines...\n",
            "Reading lines...\n"
          ]
        }
      ]
    },
    {
      "cell_type": "code",
      "metadata": {
        "colab": {
          "base_uri": "https://localhost:8080/"
        },
        "id": "kEpVkptQKZKm",
        "outputId": "9c1fd5bb-d299-42ad-cdc5-438a68490fc1"
      },
      "source": [
        "hackset = set()\n",
        "for pair in test_pairs_single:\n",
        "  hackset.add(pair[0])\n",
        "\n",
        "print(random.sample(hackset, 10))"
      ],
      "execution_count": 33,
      "outputs": [
        {
          "output_type": "stream",
          "name": "stdout",
          "text": [
            "['вр^ме,', 'грехъ', 'ежщчостьта', 'георгпевъ', 'твърдо', 'чук', 'з-й', 'кждрп', 'сждъ.', 'подробностите']\n"
          ]
        }
      ]
    },
    {
      "cell_type": "code",
      "metadata": {
        "colab": {
          "base_uri": "https://localhost:8080/"
        },
        "id": "WiPv2G1hMII6",
        "outputId": "cd9e4ada-fb75-46be-ef42-4b29819dc519"
      },
      "source": [
        "!pip install Levenshtein\n",
        "from Levenshtein import distance as levenshtein_distance"
      ],
      "execution_count": 34,
      "outputs": [
        {
          "output_type": "stream",
          "name": "stdout",
          "text": [
            "Collecting Levenshtein\n",
            "  Downloading Levenshtein-0.15.0-cp37-cp37m-manylinux2010_x86_64.whl (110 kB)\n",
            "\u001b[K     |████████████████████████████████| 110 kB 5.2 MB/s \n",
            "\u001b[?25hCollecting rapidfuzz<1.7,>=1.5.1\n",
            "  Downloading rapidfuzz-1.6.2-cp37-cp37m-manylinux_2_5_x86_64.manylinux1_x86_64.manylinux_2_12_x86_64.manylinux2010_x86_64.whl (2.0 MB)\n",
            "\u001b[K     |████████████████████████████████| 2.0 MB 39.0 MB/s \n",
            "\u001b[?25hRequirement already satisfied: numpy in /usr/local/lib/python3.7/dist-packages (from rapidfuzz<1.7,>=1.5.1->Levenshtein) (1.19.5)\n",
            "Installing collected packages: rapidfuzz, Levenshtein\n",
            "Successfully installed Levenshtein-0.15.0 rapidfuzz-1.6.2\n"
          ]
        }
      ]
    },
    {
      "cell_type": "code",
      "metadata": {
        "id": "gueMFjOYRR5U"
      },
      "source": [
        "def clean_up(word):\n",
        "  word = re.sub(r'\\n', '', word)\n",
        "  word = word.replace('@', '')\n",
        "  word = word.lower()\n",
        "  return word.strip()"
      ],
      "execution_count": 35,
      "outputs": []
    },
    {
      "cell_type": "code",
      "metadata": {
        "colab": {
          "base_uri": "https://localhost:8080/"
        },
        "id": "3eO9m7dMRH_s",
        "outputId": "d30582b5-fc57-4328-d56a-fb645d9f2ede"
      },
      "source": [
        "file_clada = path_to_dataset + '/clada.txt'\n",
        "def parse_clada(file):\n",
        "  clada_set = set()\n",
        "  with open(file, \"r\", encoding=\"utf-16\") as f:\n",
        "    raw_text = f.readlines()\n",
        "\n",
        "  for word in raw_text:\n",
        "    temp = clean_up(word)\n",
        "    if temp not in clada_set:\n",
        "      clada_set.add(temp)\n",
        "\n",
        "  return clada_set\n",
        "\n",
        "clada_set = parse_clada(file_clada)\n",
        "print(random.sample(clada_set, 10))\n",
        "print(len(clada_set))"
      ],
      "execution_count": 36,
      "outputs": [
        {
          "output_type": "stream",
          "name": "stdout",
          "text": [
            "['хранителката', 'нагърбушвашъ', 'лордската', 'измелилото', 'млеченъ', 'досъбличашъ', 'второразредни', 'невротизиращо', 'душманската', 'додѣващото']\n",
            "1106371\n"
          ]
        }
      ]
    },
    {
      "cell_type": "code",
      "metadata": {
        "colab": {
          "base_uri": "https://localhost:8080/"
        },
        "id": "yvZeKtX_6rJ7",
        "outputId": "901924b9-51ec-48e4-a2e6-98b0c84dd68b"
      },
      "source": [
        "pad = dictionary[\"<PAD>\"]\n",
        "\n",
        "checkpoint = path_to_dataset + '/seq2seq/seq2seq.ckpt'\n",
        "\n",
        "distances0 = []\n",
        "distances1 = []\n",
        "\n",
        "loaded_graph = tf.Graph()\n",
        "with tf.Session(graph=loaded_graph) as sess:\n",
        "    \n",
        "    # load the model\n",
        "    loader = tf.train.import_meta_graph(checkpoint + '.meta')\n",
        "    loader.restore(sess, checkpoint)\n",
        "\n",
        "    input_data = loaded_graph.get_tensor_by_name('inputs:0')\n",
        "    logits = loaded_graph.get_tensor_by_name('predictions:0')\n",
        "    input_sequence_length = loaded_graph.get_tensor_by_name('input_sequence_length:0')\n",
        "    label_sequence_length = loaded_graph.get_tensor_by_name('label_sequence_length:0')\n",
        "    \n",
        "    for pair in test_pairs_single:\n",
        "      input_sentence = clean_up(pair[0])\n",
        "      gs_sentence = clean_up(pair[1])\n",
        "\n",
        "      words = input_sentence.split(' ')\n",
        "      outputs = list()\n",
        "      for word in input_sentence.split(' '):\n",
        "          word_seq = to_seq(word)\n",
        "          answer_logits = sess.run(logits, {input_data: [word_seq] * batch_size, label_sequence_length: [len(word_seq)] * batch_size, input_sequence_length: [len(word_seq)] * batch_size})[0]          \n",
        "          output_word = ''.join([reverse_dictionary[i] for i in answer_logits if i != pad])\n",
        "\n",
        "          outputs.append(output_word if output_word in clada_set else word)\n",
        "\n",
        "      model_sentence_out = ' '.join(outputs)\n",
        "    \n",
        "\n",
        "\n",
        "      levdist0 = levenshtein_distance(input_sentence, gs_sentence) # distance between aligned and GS\n",
        "      levdist1 = levenshtein_distance(model_sentence_out, gs_sentence) # distance between model and GS\n",
        "\n",
        "      distances0.append(levdist0)\n",
        "      distances1.append(levdist1)\n",
        "\n",
        "    print(sum(distances0))\n",
        "    print(sum(distances1))"
      ],
      "execution_count": 45,
      "outputs": [
        {
          "output_type": "stream",
          "name": "stdout",
          "text": [
            "INFO:tensorflow:Restoring parameters from /content/gdrive/My Drive/IR/icdar2019/seq2seq/seq2seq.ckpt\n",
            "9325\n",
            "9325\n"
          ]
        }
      ]
    },
    {
      "cell_type": "code",
      "metadata": {
        "colab": {
          "base_uri": "https://localhost:8080/"
        },
        "id": "Ves1QaWFVrKn",
        "outputId": "a064ceac-382d-4859-ce3a-6ba514716789"
      },
      "source": [
        "improvement = (sum(distances0) - sum(distances1)) / sum(distances0)\n",
        "print(\"The improvement is {:.3f}%\".format(improvement * 100))"
      ],
      "execution_count": 48,
      "outputs": [
        {
          "output_type": "stream",
          "name": "stdout",
          "text": [
            "The improvement is 18.660%\n"
          ]
        }
      ]
    },
    {
      "cell_type": "code",
      "metadata": {
        "id": "ABxGASOqUvT3"
      },
      "source": [
        "def autocorrect(token):\n",
        "        candidates = self.candidates_edits1(token)\n",
        "\n",
        "        if len(candidates) > 0:\n",
        "            top_candidate = sorted(candidates, key=lambda candidate: self.probability(candidate, self.total))[:1]\n",
        "\n",
        "            return top_candidate[0]\n",
        "\n",
        "        return None"
      ],
      "execution_count": 49,
      "outputs": []
    }
  ]
}